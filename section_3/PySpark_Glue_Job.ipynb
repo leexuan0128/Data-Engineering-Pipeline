{
 "cells": [
  {
   "cell_type": "code",
   "execution_count": 1,
   "id": "3252cd88",
   "metadata": {},
   "outputs": [
    {
     "name": "stdout",
     "output_type": "stream",
     "text": [
      "Starting Spark application\n"
     ]
    },
    {
     "data": {
      "text/html": [
       "<table>\n",
       "<tr><th>ID</th><th>YARN Application ID</th><th>Kind</th><th>State</th><th>Spark UI</th><th>Driver log</th><th>User</th><th>Current session?</th></tr><tr><td>3</td><td>application_1648516126529_0004</td><td>pyspark</td><td>idle</td><td><a target=\"_blank\" href=\"http://ip-172-31-39-127.ap-southeast-2.compute.internal:20888/proxy/application_1648516126529_0004/\">Link</a></td><td><a target=\"_blank\" href=\"http://ip-172-31-33-29.ap-southeast-2.compute.internal:8042/node/containerlogs/container_1648516126529_0004_01_000001/livy\">Link</a></td><td>None</td><td>✔</td></tr></table>"
      ],
      "text/plain": [
       "<IPython.core.display.HTML object>"
      ]
     },
     "metadata": {},
     "output_type": "display_data"
    },
    {
     "data": {
      "application/vnd.jupyter.widget-view+json": {
       "model_id": "",
       "version_major": 2,
       "version_minor": 0
      },
      "text/plain": [
       "FloatProgress(value=0.0, bar_style='info', description='Progress:', layout=Layout(height='25px', width='50%'),…"
      ]
     },
     "metadata": {},
     "output_type": "display_data"
    },
    {
     "name": "stdout",
     "output_type": "stream",
     "text": [
      "SparkSession available as 'spark'.\n"
     ]
    },
    {
     "data": {
      "application/vnd.jupyter.widget-view+json": {
       "model_id": "",
       "version_major": 2,
       "version_minor": 0
      },
      "text/plain": [
       "FloatProgress(value=0.0, bar_style='info', description='Progress:', layout=Layout(height='25px', width='50%'),…"
      ]
     },
     "metadata": {},
     "output_type": "display_data"
    }
   ],
   "source": [
    "import sys\n",
    "from awsglue.transforms import *\n",
    "from awsglue.utils import getResolvedOptions\n",
    "from pyspark.context import SparkContext\n",
    "from awsglue.context import GlueContext\n",
    "from awsglue.job import Job\n",
    "\n",
    "\n",
    "def main():\n",
    "    # create glue context first\n",
    "    glueContext = GlueContext(SparkContext.getOrCreate())\n",
    "    \n",
    "    # creating dataframes from existing athena catelog\n",
    "    up_features = glueContext.create_dynamic_frame_from_options(connection_type = \"parquet\", connection_options = {\"paths\": [\"s3://imba-shawn/features/up_features_db/\"]})\n",
    "    prd_features = glueContext.create_dynamic_frame_from_options(connection_type = \"parquet\", connection_options = {\"paths\": [\"s3://imba-shawn/features/prd_feature_db/\"]})\n",
    "    user_features_1 = glueContext.create_dynamic_frame_from_options(connection_type = \"parquet\", connection_options = {\"paths\": [\"s3://imba-shawn/features/user_features_1_db/\"]})\n",
    "    user_features_2 = glueContext.create_dynamic_frame_from_options(connection_type = \"parquet\", connection_options = {\"paths\": [\"s3://imba-shawn/features/user_features_2_db/\"]})\n",
    "    \n",
    "    # join user features together\n",
    "    users = Join.apply(user_features_1.rename_field('user_id','user_id1'), user_features_2, 'user_id1', 'user_id').drop_fields(['user_id1'])\n",
    "    \n",
    "    # join everything together\n",
    "    df = Join.apply(Join.apply(up_features, users.rename_field('user_id','user_id1'), \n",
    "                      'user_id','user_id1').drop_fields(['user_id1']),\n",
    "          prd_features.rename_field('product_id','product_id1'), \n",
    "          'product_id','product_id1').drop_fields(['product_id1'])\n",
    "          \n",
    "    # convert glue dynamic dataframe to spark dataframe\n",
    "    df_spark = df.toDF()\n",
    "    df_spark.repartition(1).write.mode('overwrite').format('csv').save(\"s3://imba-shawn/output\", header = 'true')\n",
    "    \n",
    "if __name__ == '__main__':\n",
    "    main()\n",
    "        "
   ]
  },
  {
   "cell_type": "code",
   "execution_count": 2,
   "id": "d104714e",
   "metadata": {},
   "outputs": [
    {
     "data": {
      "application/vnd.jupyter.widget-view+json": {
       "model_id": "",
       "version_major": 2,
       "version_minor": 0
      },
      "text/plain": [
       "FloatProgress(value=0.0, bar_style='info', description='Progress:', layout=Layout(height='25px', width='50%'),…"
      ]
     },
     "metadata": {},
     "output_type": "display_data"
    }
   ],
   "source": [
    "# create glue context first\n",
    "glueContext = GlueContext(SparkContext.getOrCreate())"
   ]
  },
  {
   "cell_type": "code",
   "execution_count": 3,
   "id": "585b2682",
   "metadata": {},
   "outputs": [
    {
     "data": {
      "application/vnd.jupyter.widget-view+json": {
       "model_id": "",
       "version_major": 2,
       "version_minor": 0
      },
      "text/plain": [
       "FloatProgress(value=0.0, bar_style='info', description='Progress:', layout=Layout(height='25px', width='50%'),…"
      ]
     },
     "metadata": {},
     "output_type": "display_data"
    }
   ],
   "source": [
    "up_features = glueContext.create_dynamic_frame_from_options(connection_type = \"parquet\", connection_options = {\"paths\": [\"s3://imba-shawn/features/up_features_db/\"]})\n"
   ]
  },
  {
   "cell_type": "code",
   "execution_count": 4,
   "id": "444d54a9",
   "metadata": {},
   "outputs": [
    {
     "data": {
      "application/vnd.jupyter.widget-view+json": {
       "model_id": "",
       "version_major": 2,
       "version_minor": 0
      },
      "text/plain": [
       "FloatProgress(value=0.0, bar_style='info', description='Progress:', layout=Layout(height='25px', width='50%'),…"
      ]
     },
     "metadata": {},
     "output_type": "display_data"
    }
   ],
   "source": [
    "prd_features = glueContext.create_dynamic_frame_from_options(connection_type = \"parquet\", connection_options = {\"paths\": [\"s3://imba-shawn/features/prd_feature_db/\"]})\n"
   ]
  },
  {
   "cell_type": "code",
   "execution_count": 5,
   "id": "c171f975",
   "metadata": {},
   "outputs": [
    {
     "data": {
      "application/vnd.jupyter.widget-view+json": {
       "model_id": "",
       "version_major": 2,
       "version_minor": 0
      },
      "text/plain": [
       "FloatProgress(value=0.0, bar_style='info', description='Progress:', layout=Layout(height='25px', width='50%'),…"
      ]
     },
     "metadata": {},
     "output_type": "display_data"
    }
   ],
   "source": [
    "user_features_1 = glueContext.create_dynamic_frame_from_options(connection_type = \"parquet\", connection_options = {\"paths\": [\"s3://imba-shawn/features/user_features_1_db/\"]})\n"
   ]
  },
  {
   "cell_type": "code",
   "execution_count": 6,
   "id": "daafbb04",
   "metadata": {},
   "outputs": [
    {
     "data": {
      "application/vnd.jupyter.widget-view+json": {
       "model_id": "",
       "version_major": 2,
       "version_minor": 0
      },
      "text/plain": [
       "FloatProgress(value=0.0, bar_style='info', description='Progress:', layout=Layout(height='25px', width='50%'),…"
      ]
     },
     "metadata": {},
     "output_type": "display_data"
    }
   ],
   "source": [
    "user_features_2 = glueContext.create_dynamic_frame_from_options(connection_type = \"parquet\", connection_options = {\"paths\": [\"s3://imba-shawn/features/user_features_2_db/\"]})\n"
   ]
  },
  {
   "cell_type": "code",
   "execution_count": 7,
   "id": "cba49eb4",
   "metadata": {},
   "outputs": [
    {
     "data": {
      "application/vnd.jupyter.widget-view+json": {
       "model_id": "",
       "version_major": 2,
       "version_minor": 0
      },
      "text/plain": [
       "FloatProgress(value=0.0, bar_style='info', description='Progress:', layout=Layout(height='25px', width='50%'),…"
      ]
     },
     "metadata": {},
     "output_type": "display_data"
    },
    {
     "name": "stdout",
     "output_type": "stream",
     "text": [
      "<awsglue.dynamicframe.DynamicFrame object at 0x7f3c1f044860>"
     ]
    }
   ],
   "source": [
    "up_features"
   ]
  },
  {
   "cell_type": "code",
   "execution_count": 8,
   "id": "8f157e64",
   "metadata": {},
   "outputs": [
    {
     "data": {
      "application/vnd.jupyter.widget-view+json": {
       "model_id": "",
       "version_major": 2,
       "version_minor": 0
      },
      "text/plain": [
       "FloatProgress(value=0.0, bar_style='info', description='Progress:', layout=Layout(height='25px', width='50%'),…"
      ]
     },
     "metadata": {},
     "output_type": "display_data"
    }
   ],
   "source": [
    "users = Join.apply(user_features_1.rename_field('user_id','user_id1'), user_features_2, 'user_id1', 'user_id').drop_fields(['user_id1'])\n"
   ]
  },
  {
   "cell_type": "code",
   "execution_count": 9,
   "id": "109a4b9c",
   "metadata": {},
   "outputs": [
    {
     "data": {
      "application/vnd.jupyter.widget-view+json": {
       "model_id": "",
       "version_major": 2,
       "version_minor": 0
      },
      "text/plain": [
       "FloatProgress(value=0.0, bar_style='info', description='Progress:', layout=Layout(height='25px', width='50%'),…"
      ]
     },
     "metadata": {},
     "output_type": "display_data"
    }
   ],
   "source": [
    "df = Join.apply(Join.apply(up_features, users.rename_field('user_id','user_id1'), \n",
    "                      'user_id','user_id1').drop_fields(['user_id1']),\n",
    "          prd_features.rename_field('product_id','product_id1'), \n",
    "          'product_id','product_id1').drop_fields(['product_id1'])"
   ]
  },
  {
   "cell_type": "code",
   "execution_count": 10,
   "id": "f56b3945",
   "metadata": {},
   "outputs": [
    {
     "data": {
      "application/vnd.jupyter.widget-view+json": {
       "model_id": "",
       "version_major": 2,
       "version_minor": 0
      },
      "text/plain": [
       "FloatProgress(value=0.0, bar_style='info', description='Progress:', layout=Layout(height='25px', width='50%'),…"
      ]
     },
     "metadata": {},
     "output_type": "display_data"
    }
   ],
   "source": [
    "df_spark = df.toDF()"
   ]
  },
  {
   "cell_type": "code",
   "execution_count": 11,
   "id": "135fada3",
   "metadata": {},
   "outputs": [
    {
     "data": {
      "application/vnd.jupyter.widget-view+json": {
       "model_id": "",
       "version_major": 2,
       "version_minor": 0
      },
      "text/plain": [
       "FloatProgress(value=0.0, bar_style='info', description='Progress:', layout=Layout(height='25px', width='50%'),…"
      ]
     },
     "metadata": {},
     "output_type": "display_data"
    },
    {
     "name": "stdout",
     "output_type": "stream",
     "text": [
      "DataFrame[product_id: bigint, avg_cart_position: int, avg_of_days_since_prior_order: double, max_order_number: double, up_orders: bigint, user_distinct_products: int, prod_second_orders: int, prod_reorders: int, user_reorder_ratio: double, user_total_products: int, sum_of_days_since_prior_order: double, up_first_order: int, prod_orders: int, up_last_order: int, prod_first_orders: int, user_id: bigint]"
     ]
    }
   ],
   "source": [
    "df_spark"
   ]
  },
  {
   "cell_type": "code",
   "execution_count": 12,
   "id": "4bc36655",
   "metadata": {},
   "outputs": [
    {
     "data": {
      "application/vnd.jupyter.widget-view+json": {
       "model_id": "",
       "version_major": 2,
       "version_minor": 0
      },
      "text/plain": [
       "FloatProgress(value=0.0, bar_style='info', description='Progress:', layout=Layout(height='25px', width='50%'),…"
      ]
     },
     "metadata": {},
     "output_type": "display_data"
    }
   ],
   "source": [
    "df_spark.repartition(1).write.mode('overwrite').format('csv').save(\"s3://imba-shawn/output\", header = 'true')\n"
   ]
  }
 ],
 "metadata": {
  "kernelspec": {
   "display_name": "Sparkmagic (PySpark)",
   "language": "python",
   "name": "pysparkkernel"
  },
  "language_info": {
   "codemirror_mode": {
    "name": "python",
    "version": 3
   },
   "file_extension": ".py",
   "mimetype": "text/x-python",
   "name": "pyspark",
   "pygments_lexer": "python3"
  }
 },
 "nbformat": 4,
 "nbformat_minor": 5
}
